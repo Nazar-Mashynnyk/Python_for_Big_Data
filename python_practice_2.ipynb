{
  "cells": [
    {
      "cell_type": "markdown",
      "metadata": {
        "id": "p9wwt0LZzNvn"
      },
      "source": [
        "# I. Змінні та памʼять."
      ]
    },
    {
      "cell_type": "markdown",
      "metadata": {
        "id": "HTJrrm95xSV9"
      },
      "source": [
        "1. Створити змінні, що посилаються на два цілих числа, що однакові за значенням, де значення належить проміжку від -5 до 256. Перевірте, чи будуть ці змінні рівні тільки за значенням або ж ще будуть посилатися на один і той самий обʼєкт в памʼяті? Наведіть код та дайте текстову відповідь нижче."
      ]
    },
    {
      "cell_type": "code",
      "execution_count": 5,
      "metadata": {
        "id": "TATni2vzayjG"
      },
      "outputs": [
        {
          "data": {
            "text/plain": [
              "True"
            ]
          },
          "execution_count": 5,
          "metadata": {},
          "output_type": "execute_result"
        }
      ],
      "source": [
        "a=10\n",
        "b=10\n",
        "a is b"
      ]
    },
    {
      "cell_type": "markdown",
      "metadata": {
        "id": "zfRG_o3WbRdg"
      },
      "source": [
        "Вираз 'a is b' повертає результат порівняння адрес a і b в пам'яті. Цілі числа від -5 до 255 розміщуються в пам'яті при ініціалізації Python, і при присвоєнні змінній значення у цьому діапазоні змінна посилається на попередньо розміщений об'єкт з цим значенням, і саме це відбувається у цьому випадку. \n",
        "\n",
        "*місце для текстової відповіді"
      ]
    },
    {
      "cell_type": "markdown",
      "metadata": {
        "id": "ISORzt6M3vAt"
      },
      "source": [
        "2. За допомогою якої функції можна перевірити належність змінної до вказаного типу даних (напр. чи змінна True посилається на значення булевого та цілочисленого типу)?"
      ]
    },
    {
      "cell_type": "code",
      "execution_count": 26,
      "metadata": {
        "id": "9vL9CFaMbfyo"
      },
      "outputs": [
        {
          "data": {
            "text/plain": [
              "(True, False)"
            ]
          },
          "execution_count": 26,
          "metadata": {},
          "output_type": "execute_result"
        }
      ],
      "source": [
        "(type(True)==bool,type(True)==int)"
      ]
    },
    {
      "cell_type": "code",
      "execution_count": null,
      "metadata": {},
      "outputs": [],
      "source": []
    },
    {
      "cell_type": "markdown",
      "metadata": {
        "id": "tRxugKAxwYLw"
      },
      "source": [
        "# II. Цілі числа та числа з рухомою комою"
      ]
    },
    {
      "cell_type": "markdown",
      "metadata": {
        "id": "NLHkgd5Gybc8"
      },
      "source": [
        "3. Створити дві змінні, що посилаються на будь-які ціле число та число з рухомою комою та продемонструвати такі арифметичні операції: додавання, віднімання, ділення, множення, ділення без залишку, ділення по модулю, приведення до ступеню. Всі результати операцій вивести на екран."
      ]
    },
    {
      "cell_type": "code",
      "execution_count": 14,
      "metadata": {
        "id": "nb8u_3pjb2cA"
      },
      "outputs": [
        {
          "data": {
            "text/plain": [
              "[31.77, -8.23, 0.5885, 235.39999999999998, 0.0, 11.77, 2.603330202528181e+21]"
            ]
          },
          "execution_count": 14,
          "metadata": {},
          "output_type": "execute_result"
        }
      ],
      "source": [
        "a,b=11.77,20\n",
        "[a+b, a-b, a/b, a*b, a//b, a%b, a**b]"
      ]
    },
    {
      "cell_type": "markdown",
      "metadata": {
        "id": "1kBClKgPzZnC"
      },
      "source": [
        "4. Використовуючи змінні з вправи 3, продемонструйте механізм явного перетворення типів, де числа з рухомою комою перетворюються на цілі числа. Також визначте змінну, що посилається на значення булевого типу і спробуйте явно привести її до цілого числа."
      ]
    },
    {
      "cell_type": "code",
      "execution_count": 19,
      "metadata": {
        "id": "TbqJbkeUcKsD"
      },
      "outputs": [
        {
          "name": "stdout",
          "output_type": "stream",
          "text": [
            "c=11, type(c)=<class 'int'>\n",
            "d=True, type(d)=<class 'bool'>\n",
            "e=4+int(d)*2=6, type(e)=<class 'int'>\n"
          ]
        }
      ],
      "source": [
        "c=int(a)%b\n",
        "print(\"c=\"+str(c)+\", type(c)=\"+str(type(c)))\n",
        "d=True\n",
        "e=4+int(d)*2\n",
        "print(\"d=\"+str(d)+\", type(d)=\"+str(type(d)))\n",
        "print(\"e=4+int(d)*2=\"+str(e)+\", type(e)=\"+str(type(e)))"
      ]
    },
    {
      "cell_type": "markdown",
      "metadata": {
        "id": "EVJ7AflwxrZi"
      },
      "source": [
        "# IІІ. Рядки (String)."
      ]
    },
    {
      "cell_type": "markdown",
      "metadata": {
        "id": "_s5ECzz9zE61"
      },
      "source": [
        "5. Створити пустий рядок двома різними способами."
      ]
    },
    {
      "cell_type": "code",
      "execution_count": 23,
      "metadata": {
        "id": "fkZJHu9Scvc-"
      },
      "outputs": [
        {
          "data": {
            "text/plain": [
              "True"
            ]
          },
          "execution_count": 23,
          "metadata": {},
          "output_type": "execute_result"
        }
      ],
      "source": [
        "s1=str()\n",
        "s2=\"\"\n",
        "s1==s2"
      ]
    },
    {
      "cell_type": "markdown",
      "metadata": {
        "id": "4Bdn9J3MzLf_"
      },
      "source": [
        "6. Створити рядок з апострофом. Зробити його сирим. Вивести обидва рядка на екран."
      ]
    },
    {
      "cell_type": "code",
      "execution_count": 28,
      "metadata": {
        "id": "ivji_hsmc0GH"
      },
      "outputs": [
        {
          "name": "stdout",
          "output_type": "stream",
          "text": [
            "s3=', raw s3 = '\n"
          ]
        }
      ],
      "source": [
        "s3=\"'\"\n",
        "raw_s3=r\"{}\".format(s3)\n",
        "print(\"s3=\"+s3+\", raw s3 = \"+raw_s3)"
      ]
    },
    {
      "cell_type": "markdown",
      "metadata": {
        "id": "bg_d8wM4z8dS"
      },
      "source": [
        "7. Створити змінну, що буде посилатися на Ваше прізвище латинкою. Створити форматований рядок, який буде мати вигляд \"My surname is ______\", де на місці нижніх підкреслень буде Ваше прізвище зі змінної."
      ]
    },
    {
      "cell_type": "code",
      "execution_count": 31,
      "metadata": {
        "id": "kuxFgpWndACq"
      },
      "outputs": [
        {
          "name": "stdout",
          "output_type": "stream",
          "text": [
            "My surname is Mashynnyk\n"
          ]
        }
      ],
      "source": [
        "surname=\"Mashynnyk\"\n",
        "fstring = \"My surname is {}\".format(surname)\n",
        "print(fstring)"
      ]
    },
    {
      "cell_type": "markdown",
      "metadata": {
        "id": "1Nc6RqvQ0hxU"
      },
      "source": [
        "8. Маючи рядок \"My dog is crazy.\" перетворити його на список [\"my\", \"dog\", \"is\", \"crazy\"]"
      ]
    },
    {
      "cell_type": "code",
      "execution_count": 36,
      "metadata": {
        "id": "w1Ya4RqedUhw"
      },
      "outputs": [
        {
          "data": {
            "text/plain": [
              "['my', 'dog', 'is', 'crazy.']"
            ]
          },
          "execution_count": 36,
          "metadata": {},
          "output_type": "execute_result"
        }
      ],
      "source": [
        "s4=\"My dog is crazy.\"\n",
        "ls4=s4.lower().split()\n",
        "ls4"
      ]
    },
    {
      "cell_type": "markdown",
      "metadata": {
        "id": "GYVqN9uP1D4n"
      },
      "source": [
        "# IV. Робота зі списками."
      ]
    },
    {
      "cell_type": "markdown",
      "metadata": {
        "id": "7-DeDunw2sO-"
      },
      "source": [
        "9. Створити список двома різними за синтаксисом способами. За допомогою вбудованої функції обчисліть довжину одного з них."
      ]
    },
    {
      "cell_type": "code",
      "execution_count": 47,
      "metadata": {
        "id": "zxg06Uuxdyoh"
      },
      "outputs": [
        {
          "data": {
            "text/plain": [
              "([1], [1, 2, 3, 4], 1, 4)"
            ]
          },
          "execution_count": 47,
          "metadata": {},
          "output_type": "execute_result"
        }
      ],
      "source": [
        "l1=list()\n",
        "l1.append(1)\n",
        "l2=[1,2,3,4]\n",
        "l1,l2,len(l1),len(l2)"
      ]
    },
    {
      "cell_type": "markdown",
      "metadata": {
        "id": "8vmGUTjL22gI"
      },
      "source": [
        "10. Створіть два списка та за допомогою спеціального методу додайте другий з них в якості останнього елемента першого."
      ]
    },
    {
      "cell_type": "code",
      "execution_count": 49,
      "metadata": {
        "id": "uHtjWYw7d7hm"
      },
      "outputs": [
        {
          "data": {
            "text/plain": [
              "[1, 2, 3, 4, [5, 6, 7, 8]]"
            ]
          },
          "execution_count": 49,
          "metadata": {},
          "output_type": "execute_result"
        }
      ],
      "source": [
        "l1=[1,2,3,4]\n",
        "l2=[5,6,7,8]\n",
        "l1.append(l2)\n",
        "l1"
      ]
    },
    {
      "cell_type": "markdown",
      "metadata": {
        "id": "JC3BkD-67_--"
      },
      "source": [
        "11. Створіть список, де елементами цього списку також є списки. Отримай перший елемент з останнього рядка та виведи значення на екран."
      ]
    },
    {
      "cell_type": "code",
      "execution_count": 50,
      "metadata": {
        "id": "Kz2jZHsGeLlz"
      },
      "outputs": [
        {
          "data": {
            "text/plain": [
              "[3, 2, 1]"
            ]
          },
          "execution_count": 50,
          "metadata": {},
          "output_type": "execute_result"
        }
      ],
      "source": [
        "l3=[[3,2,1],[2,1],[1],[]]\n",
        "l3[0]"
      ]
    },
    {
      "cell_type": "markdown",
      "metadata": {
        "id": "JA47PKTv8zFK"
      },
      "source": [
        "12. Створіть список з десяти елементів різного типу. Отримайте всі елементи, окрім двох перших та двох останніх та збережіть їх в новій змінній."
      ]
    },
    {
      "cell_type": "code",
      "execution_count": 56,
      "metadata": {
        "id": "_rHdUR-ueP4-"
      },
      "outputs": [
        {
          "data": {
            "text/plain": [
              "['e', [1, 'e'], [[1, 1]], [(3, 4)], [[1, 1], (3, 4)], [4, [3, [3]]]]"
            ]
          },
          "execution_count": 56,
          "metadata": {},
          "output_type": "execute_result"
        }
      ],
      "source": [
        "l4=[1,2.,'e',[1,'e'],[[1,1]],[(3,4)],[[1,1],(3,4)],([4,[3,[3]]]),([[3],2]),([4,3],[[3],2])]\n",
        "l5=l4[2:-2]\n",
        "l5"
      ]
    },
    {
      "cell_type": "markdown",
      "metadata": {
        "id": "pCjR1dJb1Qbi"
      },
      "source": [
        "# V. Робота з кортежами."
      ]
    },
    {
      "cell_type": "markdown",
      "metadata": {
        "id": "fAZCxAX06R_k"
      },
      "source": [
        "14. Створити кортеж з один елементом."
      ]
    },
    {
      "cell_type": "code",
      "execution_count": 61,
      "metadata": {
        "id": "H7d82WkQev3e"
      },
      "outputs": [],
      "source": [
        "a=(1,)"
      ]
    },
    {
      "cell_type": "markdown",
      "metadata": {
        "id": "8LCtYcmI6w1M"
      },
      "source": [
        "15. Порівняйте список та кортеж. Назвіть схожості та відмінності, випадки використання."
      ]
    },
    {
      "cell_type": "markdown",
      "metadata": {
        "id": "fUsN1Hnue0C6"
      },
      "source": [
        "Кортеж містить елементи однакового типу і не може змінюватись після створення, до нього не можна додавати елементи. Список може містити елементи різних типів і може змінюватись після створення, до нього можна додавати елементи. Кортежі використовуються у випадках, коли необхідно гарантувати, що змінна матиме елементи однакового типу у наперед заданій кількості, а списки у випадках необхідності багаторазової модифікації і потреби у зберіганні елементів різних типів. \n",
        "\n",
        "*місце для текстової відповіді"
      ]
    },
    {
      "cell_type": "markdown",
      "metadata": {
        "id": "m0xrwFijAmDD"
      },
      "source": [
        "16. Створіть кортеж з 11ти елементів чисел з рухомою комою та отримайте кожен парний за індексом елемент в зворотньому порядку. Наприклад, маючи (1.2, 2.3, 3.3, 4.3, 5.3, 6.3, 7.3, 8.3, 9.3, 0.3), отримати (0.3, 8.3, 6.3, 4.3, 2.3). Результат збережіть в нову змінну та виведіть на екран."
      ]
    },
    {
      "cell_type": "code",
      "execution_count": 67,
      "metadata": {
        "id": "p-5DAH6XfAGA"
      },
      "outputs": [
        {
          "data": {
            "text/plain": [
              "(0.3, 8.3, 6.3, 4.3, 2.3)"
            ]
          },
          "execution_count": 67,
          "metadata": {},
          "output_type": "execute_result"
        }
      ],
      "source": [
        "l6=(1.2, 2.3, 3.3, 4.3, 5.3, 6.3, 7.3, 8.3, 9.3, 0.3)\n",
        "l6_2 = tuple([l6[i*2+1] for i in range(0,len(l6)//2)])[::-1]\n",
        "l6_2"
      ]
    },
    {
      "cell_type": "markdown",
      "metadata": {
        "id": "rW_I9dt3x6cW"
      },
      "source": [
        "# VI. Множини (Set)."
      ]
    },
    {
      "cell_type": "markdown",
      "metadata": {
        "id": "zNjRLHLw1Bgg"
      },
      "source": [
        "17. Створити множину без елементів. Після цого за допомогою методу додайте кілька різних елементів до множини. Чи множини є змінним типом даних?"
      ]
    },
    {
      "cell_type": "code",
      "execution_count": 72,
      "metadata": {
        "id": "KOv7zc2Kfo4N"
      },
      "outputs": [
        {
          "data": {
            "text/plain": [
              "{3, True, 'r'}"
            ]
          },
          "execution_count": 72,
          "metadata": {},
          "output_type": "execute_result"
        }
      ],
      "source": [
        "m1=set()\n",
        "m1.add(\"r\")\n",
        "m1.add(3)\n",
        "m1.add(True)\n",
        "m1"
      ]
    },
    {
      "cell_type": "markdown",
      "metadata": {
        "id": "vxS6dVYiftZQ"
      },
      "source": [
        "Множини є змінним типом даних. \n",
        "\n",
        "*місце для текстової відповіді"
      ]
    },
    {
      "cell_type": "markdown",
      "metadata": {
        "id": "gHpT0Zw_1HEF"
      },
      "source": [
        "18. Створити множину, маючи список my_list = [1, 1, 2, 67, 67, 8, 9]. Пояснити, чому \"зникли\" деякі елементи."
      ]
    },
    {
      "cell_type": "code",
      "execution_count": 74,
      "metadata": {
        "id": "qCN4uvJ_fxmu"
      },
      "outputs": [
        {
          "data": {
            "text/plain": [
              "{1, 2, 8, 9, 67}"
            ]
          },
          "execution_count": 74,
          "metadata": {},
          "output_type": "execute_result"
        }
      ],
      "source": [
        "my_list = [1, 1, 2, 67, 67, 8, 9]\n",
        "m2=set(my_list)\n",
        "m2"
      ]
    },
    {
      "cell_type": "markdown",
      "metadata": {
        "id": "tFNc1e20fyny"
      },
      "source": [
        "Множина не може містити однакових елементів, і при додаванні вони пропускаються. \n",
        "\n",
        "*місце для текстової відповіді"
      ]
    },
    {
      "cell_type": "markdown",
      "metadata": {
        "id": "SRMkGizS1UwY"
      },
      "source": [
        "19. Створіть дві множини. Продемонстуйте над ними операції: обʼєднання, різниці, пересічі та симетричної різниці. Використовуйте методи, що не змінюють множини, а створюють нові."
      ]
    },
    {
      "cell_type": "code",
      "execution_count": 77,
      "metadata": {
        "id": "h0T-VuDnf3Ri"
      },
      "outputs": [
        {
          "data": {
            "text/plain": [
              "({0, 1, 2, 3, 4, 6, 8, 10, 12, 14, 16, 18},\n",
              " {6, 8, 10, 12, 14, 16, 18},\n",
              " {0, 2, 4},\n",
              " {1, 3, 6, 8, 10, 12, 14, 16, 18})"
            ]
          },
          "execution_count": 77,
          "metadata": {},
          "output_type": "execute_result"
        }
      ],
      "source": [
        "m3,m4=set([i*2 for i in range(0,10)]),set([i//2 for i in range(0,10)])\n",
        "m3.union(m4),m3.difference(m4),m3.intersection(m4),m3.symmetric_difference(m4)"
      ]
    },
    {
      "cell_type": "markdown",
      "metadata": {
        "id": "kWc8gkzTx7Ea"
      },
      "source": [
        "# VII. Словники (Dictionary)."
      ]
    },
    {
      "cell_type": "markdown",
      "metadata": {
        "id": "i5FLwj-B2ybQ"
      },
      "source": [
        "20. Створіть пустий словник. До нього додайте чотири пари елементів такі, щоб їхні ключі були різних типів. Чи може список бути ключем? Чому?"
      ]
    },
    {
      "cell_type": "code",
      "execution_count": 82,
      "metadata": {
        "id": "hxgv3BzrgLAV"
      },
      "outputs": [
        {
          "data": {
            "text/plain": [
              "{'c': 'd', 1: 2, 11.0: 22.0, (1, 2): (1, 2)}"
            ]
          },
          "execution_count": 82,
          "metadata": {},
          "output_type": "execute_result"
        }
      ],
      "source": [
        "d={}\n",
        "d.update({\"c\":\"d\"})\n",
        "d.update({1:2})\n",
        "d.update({11.:22.})\n",
        "d.update({(1,2):(1,2)})\n",
        "d"
      ]
    },
    {
      "cell_type": "markdown",
      "metadata": {
        "id": "zwa7UVN-gR3m"
      },
      "source": [
        "Список не може бути ключем, тому що не підтримує хешування, яке використовується у словниках. \n",
        "\n",
        "*місце для текстової відповіді"
      ]
    },
    {
      "cell_type": "markdown",
      "metadata": {
        "id": "WM_pMlJsgoNf"
      },
      "source": [
        "21. Створіть словник, де значенням в одній з пар теж буде словник, який теж має вкладений словник. Виведіть на екран значення, що міститься в словнику, що знаходиться на найнижчому рівні ієрархії вкладеності (найбільш внутрішній)."
      ]
    },
    {
      "cell_type": "code",
      "execution_count": 91,
      "metadata": {
        "id": "60dlP7IHhAy4"
      },
      "outputs": [
        {
          "data": {
            "text/plain": [
              "{'c': 'd', 1: 2, 11.0: 22.0, (1, 2): (1, 2)}"
            ]
          },
          "execution_count": 91,
          "metadata": {},
          "output_type": "execute_result"
        }
      ],
      "source": [
        "d1={}\n",
        "d1.update({\"c\":\"d\"})\n",
        "d1.update({1:2})\n",
        "d1.update({11.:d})\n",
        "d1.update({(1,2):(1,2)})\n",
        "d11={}\n",
        "d11.update({\"c\":\"d\"})\n",
        "d11.update({1:2})\n",
        "d11.update({11.:d1})\n",
        "d11.update({(1,2):(1,2)})\n",
        "def isdict(v):\n",
        "    return type(v)==dict\n",
        "def lowest_dict(d):\n",
        "    v=list(filter(isdict,d.values()))\n",
        "    if len(v)==0:\n",
        "        return d\n",
        "    else:\n",
        "        return lowest_dict(v[0])\n",
        "lowest_dict(d11)\n"
      ]
    },
    {
      "cell_type": "markdown",
      "metadata": {
        "id": "xOZP0hkx6cCr"
      },
      "source": [
        "# Вітаю! Ви велика(ий) молодець, що впоралась(вся). Похваліть себе та побалуйте чимось приємним. Я Вами пишаюся."
      ]
    }
  ],
  "metadata": {
    "colab": {
      "provenance": []
    },
    "kernelspec": {
      "display_name": "Python 3",
      "name": "python3"
    },
    "language_info": {
      "codemirror_mode": {
        "name": "ipython",
        "version": 3
      },
      "file_extension": ".py",
      "mimetype": "text/x-python",
      "name": "python",
      "nbconvert_exporter": "python",
      "pygments_lexer": "ipython3",
      "version": "3.9.0"
    }
  },
  "nbformat": 4,
  "nbformat_minor": 0
}
