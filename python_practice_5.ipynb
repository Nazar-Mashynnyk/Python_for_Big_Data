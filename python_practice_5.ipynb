{
  "cells": [
    {
      "cell_type": "markdown",
      "metadata": {
        "id": "5qV_sehzFCTp"
      },
      "source": [
        "# I. OOP"
      ]
    },
    {
      "cell_type": "markdown",
      "metadata": {
        "id": "tx_U_hOALyfg"
      },
      "source": [
        "1. (6б). Створіть клас Animal, додайте три атрибути, один з яких має значення за замовчуванням та два методи на свій розсуд."
      ]
    },
    {
      "cell_type": "code",
      "execution_count": 26,
      "metadata": {
        "id": "-Vf895KaL88N"
      },
      "outputs": [],
      "source": [
        "class Animal:\n",
        "    def __init__(self,name,number,mass,age=1.):\n",
        "        self.name=name\n",
        "        self.number=number\n",
        "        self.mass=mass\n",
        "        self.age=age\n",
        "    def __str__(self):\n",
        "        return f\"{self.name} №{self.number}: age - {self.age} years, mass - {self.mass} kg\"\n",
        "    def update(self,name=None,number=None,mass=None,age=None):\n",
        "        if name is not None:\n",
        "            self.name=name\n",
        "        if number is not None:\n",
        "            self.number=number\n",
        "        if mass is not None:\n",
        "            self.mass=mass\n",
        "        if age is not None:\n",
        "            self.age=age\n",
        "    \n",
        "        "
      ]
    },
    {
      "cell_type": "markdown",
      "metadata": {
        "id": "X_UlOMB0L93w"
      },
      "source": [
        "2. (2б). Створіть два обʼєкти цього класу, де один з обʼєктів створюється із дефолтним значенням атрибуту. На одному обʼєкті отримайте значення його атрибуту, а на іншому викличте один з його методів."
      ]
    },
    {
      "cell_type": "code",
      "execution_count": 27,
      "metadata": {
        "id": "7gBu0ESOMCpG"
      },
      "outputs": [
        {
          "name": "stdout",
          "output_type": "stream",
          "text": [
            "2002.5\n"
          ]
        }
      ],
      "source": [
        "A1,A2=Animal(\"Elefant\",1477,2002.5,13),Animal(\"Giraffe\",1478,1502.5)\n",
        "A2.update(mass=1600,age=9)\n",
        "print(A1.mass)"
      ]
    },
    {
      "cell_type": "markdown",
      "metadata": {
        "id": "HoqSCZt1MHn5"
      },
      "source": [
        "3. (5б). Створіть клас, де атрибути мають різні рівні доступу. Спробуйте отримати їхні значення та опишіть результати."
      ]
    },
    {
      "cell_type": "code",
      "execution_count": 28,
      "metadata": {
        "id": "r9b3vJxBMSPV"
      },
      "outputs": [
        {
          "name": "stdout",
          "output_type": "stream",
          "text": [
            "1\n",
            "2\n"
          ]
        }
      ],
      "source": [
        "class C:\n",
        "    def __init__(self,a,b):\n",
        "        self.a=a\n",
        "        self.__b=b\n",
        "    def getb(self):\n",
        "        return self.__b\n",
        "o=C(1,2)\n",
        "print(o.a)\n",
        "#print(C.__b) - буде помилка, тому що b - приватний атрибут\n",
        "print(o.getb())"
      ]
    },
    {
      "cell_type": "markdown",
      "metadata": {
        "id": "5op2m2vgMSkZ"
      },
      "source": [
        "#4. (7б). Як ви розумієте термін self? Для чого використовується метод __init __?\n"
      ]
    },
    {
      "cell_type": "markdown",
      "metadata": {
        "id": "DyiPqNRvMasx"
      },
      "source": [
        "*місце для відповіді\n",
        "\n",
        "\n",
        "\n",
        "self - вказівник на об'єкт класу, з якого викликається функція\n",
        "\n",
        "init - функція, яка викликається при створенні об'єкта"
      ]
    },
    {
      "cell_type": "markdown",
      "metadata": {
        "id": "-6X8EGfjMd2y"
      },
      "source": [
        "5. (9б). Створіть клас Фігура без атрибутів, з методом get_area для отримання площі фігури, що повертає 0 та __add __, який приймає self та other в якості аргументів, а повертає суму площин фігур self та other."
      ]
    },
    {
      "cell_type": "code",
      "execution_count": 29,
      "metadata": {
        "id": "4rvO_wYUMaEr"
      },
      "outputs": [],
      "source": [
        "class Figure():\n",
        "    def get_area(self):\n",
        "        return 0\n",
        "    def __add__(self,other):\n",
        "        return self.get_area()+other.get_area()"
      ]
    },
    {
      "cell_type": "markdown",
      "metadata": {
        "id": "SFcKnnv5Mo_z"
      },
      "source": [
        "6. (11б). Створіть 2 дочірніх класи від Фігури: Трикутник та Коло, які мають атрибути, необхідні для розрахунку площин. Визначте метод get_area в кожному з них так, щоби вони розраховували площу в залежності від формули для кожного типу фігури. Створіть обʼєкт класу Трикутник та обʼєкт класу Коло. Виконайте операцію суми за допомогою оператора + між ними."
      ]
    },
    {
      "cell_type": "code",
      "execution_count": 30,
      "metadata": {},
      "outputs": [
        {
          "name": "stdout",
          "output_type": "stream",
          "text": [
            "8.0\n"
          ]
        }
      ],
      "source": [
        "from math import pi\n",
        "class Triangle(Figure):\n",
        "    def __init__(self,a,b,c):\n",
        "        self.a=a\n",
        "        self.b=b\n",
        "        self.c=c\n",
        "    def get_area(self):\n",
        "        p=(self.a+self.b+self.c)/2\n",
        "        return (p*(p-self.a)*(p-self.b)*(p-self.c))**(1/2)\n",
        "class Circle(Figure):\n",
        "    def __init__(self,r):\n",
        "        self.r=r\n",
        "    def get_area(self):\n",
        "        return pi*self.r*self.r/2\n",
        "print(Triangle(3,4,5)+Circle(2/(pi**(1/2))))\n"
      ]
    },
    {
      "cell_type": "markdown",
      "metadata": {
        "id": "HCvR206YMvLK"
      },
      "source": [
        "7. (3б). Продемонструйте різницю між isinstance та issubclass.\n",
        "\n",
        "isinstance(obj,cls) повертає True, якщо obj є екземпляром класу cls або класу, який наслідує cls.\n",
        "\n",
        "issubclass(obj,cls) повертає True, якщо obj є наслідує cls, інакше - False."
      ]
    },
    {
      "cell_type": "code",
      "execution_count": null,
      "metadata": {
        "id": "L_V1bBvDM0GN"
      },
      "outputs": [],
      "source": []
    },
    {
      "cell_type": "markdown",
      "metadata": {
        "id": "jjsaBZ-iM0Qq"
      },
      "source": [
        "8. (13б). Створіть клас BankAccount з приватними атрибутами balance та account_number. Реалізуйте методи поповнення та зняття коштів, забезпечивши належну інкапсуляцію. Підказка: використовуйте декоратори property та setter."
      ]
    },
    {
      "cell_type": "code",
      "execution_count": 31,
      "metadata": {},
      "outputs": [],
      "source": [
        "class BankAccount:\n",
        "    def __init__(self, account_number=0, balance=0):\n",
        "        self.__account_number = account_number\n",
        "        self.__balance = balance\n",
        "\n",
        "    @property\n",
        "    def account_number(self):\n",
        "        return self.__account_number\n",
        "\n",
        "    @property\n",
        "    def balance(self):\n",
        "        return self.__balance\n",
        "\n",
        "    @balance.setter\n",
        "    def balance(self, new_balance):\n",
        "        if new_balance >= 0:\n",
        "            self.__balance = new_balance\n",
        "\n",
        "    def deposit(self, amount):\n",
        "        if amount > 0:\n",
        "            self.__balance += amount\n",
        "\n",
        "    def withdraw(self, amount):\n",
        "        if 0 < amount <= self.__balance:\n",
        "            self.__balance -= amount"
      ]
    },
    {
      "cell_type": "code",
      "execution_count": null,
      "metadata": {
        "id": "xCvZ7lh8M7YA"
      },
      "outputs": [],
      "source": []
    },
    {
      "cell_type": "markdown",
      "metadata": {
        "id": "tIzL2SJTM8ft"
      },
      "source": [
        "9. (11б). Створіть клас Library, який містить список об'єктів типу Book. Реалізуйте методи для додавання книги, видалення книги та відображення списку книг."
      ]
    },
    {
      "cell_type": "code",
      "execution_count": 32,
      "metadata": {
        "id": "HWxfJKLtNAUZ"
      },
      "outputs": [],
      "source": [
        "class Book:\n",
        "    def __init__(self, title, author):\n",
        "        self.title = title\n",
        "        self.author = author\n",
        "    def __str__(self):\n",
        "        return f\"'{self.title}' by {self.author};\"\n",
        "\n",
        "class Library:\n",
        "    def __init__(self):\n",
        "        self.books = []\n",
        "\n",
        "    def add(self, book):\n",
        "        if isinstance(book, Book):\n",
        "            self.books.append(book)\n",
        "\n",
        "    def remove(self, book):\n",
        "        if isinstance(book, Book):\n",
        "            for b in self.books:\n",
        "                if b==book:\n",
        "                    self.books.remove(b)\n",
        "\n",
        "    def display(self):\n",
        "        if self.books:\n",
        "            print(\"Books in the library:\")\n",
        "            for book in self.books:\n",
        "                print(book)\n",
        "        else:\n",
        "            print(\"The library is empty.\")\n",
        "\n"
      ]
    },
    {
      "cell_type": "markdown",
      "metadata": {
        "id": "lmV8pAwwNIqu"
      },
      "source": [
        "10. (13б). Створіть клас Person з атрибутами name та age. Створіть ще один клас Employee з такими атрибутами, як department та salary. Створіть клас Manager, який успадковує обидва класи Person та Employee. Продемонструйте використання множинної спадковості, створивши обʼєкт класу Manager та отримавши mro для цього класу."
      ]
    },
    {
      "cell_type": "code",
      "execution_count": 33,
      "metadata": {
        "id": "R49grKlWNPeN"
      },
      "outputs": [
        {
          "name": "stdout",
          "output_type": "stream",
          "text": [
            "Name: Kenny Schrub\n",
            "Age: 28\n",
            "Department: Management\n",
            "Salary: 498765\n",
            "Method Resolution Order (MRO) for Manager class: [<class '__main__.Manager'>, <class '__main__.Person'>, <class '__main__.Employee'>, <class 'object'>]\n"
          ]
        }
      ],
      "source": [
        "class Person:\n",
        "    def __init__(self, name, age):\n",
        "        self.name = name\n",
        "        self.age = age\n",
        "\n",
        "class Employee:\n",
        "    def __init__(self, department, salary):\n",
        "        self.department = department\n",
        "        self.salary = salary\n",
        "\n",
        "class Manager(Person, Employee):\n",
        "    def __init__(self, name, age, department, salary):\n",
        "        Person.__init__(self, name, age)\n",
        "        Employee.__init__(self, department, salary)\n",
        "\n",
        "# Створюємо об'єкт класу Manager\n",
        "manager = Manager(\"Kenny Schrub\", 28, \"Management\", 498765)\n",
        "\n",
        "# Виводимо атрибути об'єкта\n",
        "print(\"Name:\", manager.name)\n",
        "print(\"Age:\", manager.age)\n",
        "print(\"Department:\", manager.department)\n",
        "print(\"Salary:\", manager.salary)\n",
        "\n",
        "# Отримуємо порядок розділених класів (Method Resolution Order)\n",
        "print(\"Method Resolution Order (MRO) for Manager class:\", Manager.mro())"
      ]
    },
    {
      "cell_type": "markdown",
      "metadata": {
        "id": "dIJyUiNBFG8G"
      },
      "source": [
        "# II. Iterator"
      ]
    },
    {
      "cell_type": "markdown",
      "metadata": {
        "id": "13vsm0NyKIzL"
      },
      "source": [
        "11. (4б). Визначте рядок(str) з 4ма різними за значенням символами. Створіть ітератор на основі цього рядка. Викличте 5 разів функцію next на ітераторі, 4ри перших з них огорніть у ф-цію print()."
      ]
    },
    {
      "cell_type": "code",
      "execution_count": 34,
      "metadata": {
        "id": "81ntabAkKuz-"
      },
      "outputs": [
        {
          "name": "stdout",
          "output_type": "stream",
          "text": [
            "a\n",
            "b\n",
            "c\n",
            "d\n"
          ]
        },
        {
          "ename": "StopIteration",
          "evalue": "",
          "output_type": "error",
          "traceback": [
            "\u001b[1;31m---------------------------------------------------------------------------\u001b[0m",
            "\u001b[1;31mStopIteration\u001b[0m                             Traceback (most recent call last)",
            "Cell \u001b[1;32mIn[34], line 9\u001b[0m\n\u001b[0;32m      7\u001b[0m \u001b[38;5;28;01mfor\u001b[39;00m _ \u001b[38;5;129;01min\u001b[39;00m \u001b[38;5;28mrange\u001b[39m(\u001b[38;5;241m4\u001b[39m):\n\u001b[0;32m      8\u001b[0m     \u001b[38;5;28mprint\u001b[39m(\u001b[38;5;28mnext\u001b[39m(it))\n\u001b[1;32m----> 9\u001b[0m \u001b[38;5;28;43mnext\u001b[39;49m\u001b[43m(\u001b[49m\u001b[43mit\u001b[49m\u001b[43m)\u001b[49m\n",
            "\u001b[1;31mStopIteration\u001b[0m: "
          ]
        }
      ],
      "source": [
        "s = \"abcd\"\n",
        "\n",
        "# Створюємо ітератор\n",
        "it = iter(s)\n",
        "\n",
        "# Викликаємо функцію next() 5 разів, 4 перші результати обгортатимемо у функцію print()\n",
        "for _ in range(4):\n",
        "    print(next(it))\n",
        "next(it)"
      ]
    },
    {
      "cell_type": "markdown",
      "metadata": {
        "id": "aekWHGXOLRsO"
      },
      "source": [
        "А що якщо викликати цю ж функцію на рядку?"
      ]
    },
    {
      "cell_type": "code",
      "execution_count": 35,
      "metadata": {
        "id": "mxATGsErLV1i"
      },
      "outputs": [
        {
          "ename": "TypeError",
          "evalue": "'str' object is not an iterator",
          "output_type": "error",
          "traceback": [
            "\u001b[1;31m---------------------------------------------------------------------------\u001b[0m",
            "\u001b[1;31mTypeError\u001b[0m                                 Traceback (most recent call last)",
            "Cell \u001b[1;32mIn[35], line 1\u001b[0m\n\u001b[1;32m----> 1\u001b[0m \u001b[38;5;28;43mnext\u001b[39;49m\u001b[43m(\u001b[49m\u001b[43ms\u001b[49m\u001b[43m)\u001b[49m\n",
            "\u001b[1;31mTypeError\u001b[0m: 'str' object is not an iterator"
          ]
        }
      ],
      "source": [
        "next(s)"
      ]
    },
    {
      "cell_type": "markdown",
      "metadata": {
        "id": "XwtMEopwJ4pH"
      },
      "source": [
        " 12. (5б). Опишіть своїми словами в одному реченні, як ви розумієте різницю між ітерабельними обʼєктами та ітераторами (можна на прикладі)."
      ]
    },
    {
      "cell_type": "markdown",
      "metadata": {
        "id": "-sHrODc3KFn8"
      },
      "source": [
        "*місце для відповіді\n",
        "\n",
        "Ітерабельні об'єкти - об'єкти, які дозволяють ітерацію по своїх атрибутах\n",
        "\n",
        "Ітератор - об'єкт, який вказує на об'єкт в складі ітерабельного об'єкта, і при виклику функції next з собою в ролі аргумента поверьає значення цього об'єкта і вказує на наступний"
      ]
    },
    {
      "cell_type": "markdown",
      "metadata": {
        "id": "E9qJWmNbK8Gl"
      },
      "source": [
        "13. (11б). Створіть клас, що має визначений Iterator Protocol та при кожному виклику next повертає літери англійської абетки, поки вони не вичерпаються."
      ]
    },
    {
      "cell_type": "code",
      "execution_count": 36,
      "metadata": {
        "id": "cqx-g_RsLo6I"
      },
      "outputs": [],
      "source": [
        "class AlphabetIterator:\n",
        "    def __init__(self):\n",
        "        self.current_letter = ord('a')  # Починаємо з першої літери алфавіту ('a')\n",
        "\n",
        "    def __iter__(self):\n",
        "        return self\n",
        "\n",
        "    def __next__(self):\n",
        "        if self.current_letter <= ord('z'):\n",
        "            letter = chr(self.current_letter)\n",
        "            self.current_letter += 1\n",
        "            return letter\n",
        "        else:\n",
        "            raise StopIteration\n"
      ]
    },
    {
      "cell_type": "markdown",
      "metadata": {
        "id": "Z3E3S_s1Fv7-"
      },
      "source": [
        "# Вітаю! Ви велика(ий) молодець, що впоралась(вся). Похваліть себе та побалуйте чимось приємним. Я Вами пишаюся."
      ]
    }
  ],
  "metadata": {
    "colab": {
      "provenance": []
    },
    "kernelspec": {
      "display_name": "Python 3",
      "name": "python3"
    },
    "language_info": {
      "codemirror_mode": {
        "name": "ipython",
        "version": 3
      },
      "file_extension": ".py",
      "mimetype": "text/x-python",
      "name": "python",
      "nbconvert_exporter": "python",
      "pygments_lexer": "ipython3",
      "version": "3.9.0"
    }
  },
  "nbformat": 4,
  "nbformat_minor": 0
}
